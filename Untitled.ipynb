{
 "cells": [
  {
   "cell_type": "code",
   "execution_count": 1,
   "id": "8c8a5f69",
   "metadata": {},
   "outputs": [
    {
     "data": {
      "text/plain": [
       "0    1\n",
       "1    2\n",
       "2    3\n",
       "3    4\n",
       "4    5\n",
       "dtype: int64"
      ]
     },
     "execution_count": 1,
     "metadata": {},
     "output_type": "execute_result"
    }
   ],
   "source": [
    "import pandas as pd\n",
    "s1 =pd.Series([1,2,3,4,5])\n",
    "s1"
   ]
  },
  {
   "cell_type": "code",
   "execution_count": 2,
   "id": "9286afbe",
   "metadata": {},
   "outputs": [
    {
     "data": {
      "text/plain": [
       "0     12\n",
       "1     35\n",
       "2      6\n",
       "3     79\n",
       "4    586\n",
       "5     68\n",
       "6    868\n",
       "dtype: int64"
      ]
     },
     "execution_count": 2,
     "metadata": {},
     "output_type": "execute_result"
    }
   ],
   "source": [
    "s1 = pd.Series([12,35,6,79,586,68,868])\n",
    "s1"
   ]
  },
  {
   "cell_type": "code",
   "execution_count": 4,
   "id": "d1050c01",
   "metadata": {},
   "outputs": [
    {
     "data": {
      "text/plain": [
       "a     12\n",
       "b     35\n",
       "c      6\n",
       "d     79\n",
       "e    586\n",
       "f     68\n",
       "g    868\n",
       "dtype: int64"
      ]
     },
     "execution_count": 4,
     "metadata": {},
     "output_type": "execute_result"
    }
   ],
   "source": [
    "s1 = pd.Series([12,35,6,79,586,68,868], index = ['a','b','c','d','e','f','g'])\n",
    "s1"
   ]
  },
  {
   "cell_type": "code",
   "execution_count": 5,
   "id": "959b9c81",
   "metadata": {},
   "outputs": [
    {
     "data": {
      "text/plain": [
       "a    12\n",
       "b    23\n",
       "c    34\n",
       "dtype: int64"
      ]
     },
     "execution_count": 5,
     "metadata": {},
     "output_type": "execute_result"
    }
   ],
   "source": [
    "s1 =pd.Series({'a':12,'b':23,'c':34})\n",
    "s1"
   ]
  },
  {
   "cell_type": "code",
   "execution_count": 6,
   "id": "2ec6e9d6",
   "metadata": {},
   "outputs": [
    {
     "data": {
      "text/plain": [
       "2     6\n",
       "3    79\n",
       "dtype: int64"
      ]
     },
     "execution_count": 6,
     "metadata": {},
     "output_type": "execute_result"
    }
   ],
   "source": [
    "s1 = pd.Series([12,35,6,79,586,68,868])\n",
    "s1[2:4]"
   ]
  },
  {
   "cell_type": "code",
   "execution_count": 7,
   "id": "7c67d307",
   "metadata": {},
   "outputs": [
    {
     "data": {
      "text/plain": [
       "5     68\n",
       "6    868\n",
       "dtype: int64"
      ]
     },
     "execution_count": 7,
     "metadata": {},
     "output_type": "execute_result"
    }
   ],
   "source": [
    "s1 = pd.Series([12,35,6,79,586,68,868])\n",
    "s1[-2:]"
   ]
  },
  {
   "cell_type": "code",
   "execution_count": 12,
   "id": "28555b4f",
   "metadata": {},
   "outputs": [
    {
     "data": {
      "text/plain": [
       "0    12\n",
       "1    35\n",
       "2     6\n",
       "3    79\n",
       "dtype: int64"
      ]
     },
     "execution_count": 12,
     "metadata": {},
     "output_type": "execute_result"
    }
   ],
   "source": [
    "s1 = pd.Series([12,35,6,79,586,68,868])\n",
    "s1[:-3]"
   ]
  },
  {
   "cell_type": "code",
   "execution_count": 13,
   "id": "73e9c751",
   "metadata": {},
   "outputs": [
    {
     "data": {
      "text/plain": [
       "0     17\n",
       "1     40\n",
       "2     11\n",
       "3     84\n",
       "4    591\n",
       "5     73\n",
       "6    873\n",
       "dtype: int64"
      ]
     },
     "execution_count": 13,
     "metadata": {},
     "output_type": "execute_result"
    }
   ],
   "source": [
    "s1+5"
   ]
  },
  {
   "cell_type": "code",
   "execution_count": 15,
   "id": "d694b34e",
   "metadata": {},
   "outputs": [],
   "source": [
    "s2 = pd.Series([15,35,6,34,586,68,85,45,67])"
   ]
  },
  {
   "cell_type": "markdown",
   "id": "176ce7f4",
   "metadata": {},
   "source": [
    "s1+s2"
   ]
  },
  {
   "cell_type": "code",
   "execution_count": 16,
   "id": "19c1966d",
   "metadata": {},
   "outputs": [
    {
     "data": {
      "text/plain": [
       "(0     12\n",
       " 1     35\n",
       " 2      6\n",
       " 3     79\n",
       " 4    586\n",
       " 5     68\n",
       " 6    868\n",
       " dtype: int64,\n",
       " 0     15\n",
       " 1     35\n",
       " 2      6\n",
       " 3     34\n",
       " 4    586\n",
       " 5     68\n",
       " 6     85\n",
       " dtype: int64)"
      ]
     },
     "execution_count": 16,
     "metadata": {},
     "output_type": "execute_result"
    }
   ],
   "source": [
    "s1,s2"
   ]
  },
  {
   "cell_type": "code",
   "execution_count": 17,
   "id": "3607a55b",
   "metadata": {},
   "outputs": [
    {
     "data": {
      "text/plain": [
       "0      27\n",
       "1      70\n",
       "2      12\n",
       "3     113\n",
       "4    1172\n",
       "5     136\n",
       "6     953\n",
       "dtype: int64"
      ]
     },
     "execution_count": 17,
     "metadata": {},
     "output_type": "execute_result"
    }
   ],
   "source": [
    "s1+s2"
   ]
  },
  {
   "cell_type": "code",
   "execution_count": null,
   "id": "bd4cbe46",
   "metadata": {},
   "outputs": [],
   "source": []
  }
 ],
 "metadata": {
  "kernelspec": {
   "display_name": "Python 3 (ipykernel)",
   "language": "python",
   "name": "python3"
  },
  "language_info": {
   "codemirror_mode": {
    "name": "ipython",
    "version": 3
   },
   "file_extension": ".py",
   "mimetype": "text/x-python",
   "name": "python",
   "nbconvert_exporter": "python",
   "pygments_lexer": "ipython3",
   "version": "3.9.7"
  }
 },
 "nbformat": 4,
 "nbformat_minor": 5
}
